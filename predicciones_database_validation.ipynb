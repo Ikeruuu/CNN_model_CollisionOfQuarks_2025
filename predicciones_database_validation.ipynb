{
 "cells": [
  {
   "cell_type": "code",
   "execution_count": 34,
   "metadata": {},
   "outputs": [],
   "source": [
    "import pandas as pd\n",
    "import numpy as np\n",
    "import pickle\n",
    "import tensorflow as tf\n",
    "from tensorflow.keras.models import load_model"
   ]
  },
  {
   "cell_type": "code",
   "execution_count": 35,
   "metadata": {},
   "outputs": [
    {
     "name": "stderr",
     "output_type": "stream",
     "text": [
      "WARNING:absl:Compiled the loaded model, but the compiled metrics have yet to be built. `model.compile_metrics` will be empty until you train or evaluate the model.\n"
     ]
    },
    {
     "name": "stdout",
     "output_type": "stream",
     "text": [
      "Se cargaron 100000 imágenes con tamaño (32, 32, 1)\n"
     ]
    }
   ],
   "source": [
    "\n",
    "# Cargar el modelo guardado\n",
    "modelo = load_model(\"modelo_keras.h5\")\n",
    "\n",
    "# --- 1. Cargar el archivo PKL y convertir a DataFrame ---\n",
    "DATASET_PATH  = 'imagenes_entrega_hackaton_2025.pkl'\n",
    "with open(DATASET_PATH, 'rb') as f:\n",
    "    data = pickle.load(f)\n",
    "\n",
    "# Verificar si las imágenes están en formato de array de NumPy\n",
    "if isinstance(data, list):\n",
    "    data = np.array(data)\n",
    "\n",
    "# Asegurar que el formato de las imágenes es el esperado por el modelo (ej. 32x32x1)\n",
    "data = data.reshape(-1, 32, 32, 1)  # Ajusta según el modelo\n",
    "\n",
    "\n",
    "print(f\"Se cargaron {data.shape[0]} imágenes con tamaño {data.shape[1:]}\") \n",
    "\n"
   ]
  },
  {
   "cell_type": "code",
   "execution_count": 36,
   "metadata": {},
   "outputs": [
    {
     "name": "stdout",
     "output_type": "stream",
     "text": [
      "✅ El modelo tiene pesos correctamente cargados.\n"
     ]
    }
   ],
   "source": [
    "# Verificar si los pesos están cargados correctamente\n",
    "pesos_capa = modelo.get_weights()\n",
    "\n",
    "if len(pesos_capa) == 0:\n",
    "    print(\"❌ ERROR: El modelo no tiene pesos entrenados.\")\n",
    "else:\n",
    "    print(\"✅ El modelo tiene pesos correctamente cargados.\")"
   ]
  },
  {
   "cell_type": "code",
   "execution_count": 37,
   "metadata": {},
   "outputs": [
    {
     "name": "stdout",
     "output_type": "stream",
     "text": [
      "\u001b[1m3125/3125\u001b[0m \u001b[32m━━━━━━━━━━━━━━━━━━━━\u001b[0m\u001b[37m\u001b[0m \u001b[1m9s\u001b[0m 3ms/step\n"
     ]
    }
   ],
   "source": [
    "# Realizar predicciones\n",
    "E_pred_proba, a_pred_proba, Q_pred_proba = modelo.predict(data)\n",
    "\n",
    "# Obtener las clases con mayor probabilidad para cada salida\n",
    "E_pred = E_pred_proba.argmax(axis=1)  # Predicción de Mecanismo de pérdida de energía\n",
    "a_pred = a_pred_proba.argmax(axis=1)  # Predicción de Constante de acoplamiento fuerte\n",
    "Q_pred = Q_pred_proba.argmax(axis=1)  # Predicción de Escala de separación virtual\n",
    "\n",
    "# Valores reales asociados a los índices de a y Q\n",
    "valores_a = [0.2, 0.3, 0.4]\n",
    "valores_Q = [1.0, 1.5, 2.0, 2.5]\n",
    "\n",
    "# Mapear los índices a los valores reales\n",
    "a_pred = [valores_a[i] for i in a_pred]\n",
    "Q_pred = [valores_Q[i] for i in Q_pred]\n",
    "\n",
    "E_labels = [\"MATTER\", \"MATTER-LBT\"]\n",
    "E_pred = [E_labels[i] for i in E_pred]"
   ]
  },
  {
   "cell_type": "code",
   "execution_count": 38,
   "metadata": {},
   "outputs": [
    {
     "name": "stdout",
     "output_type": "stream",
     "text": [
      "Distribución de predicciones para E: Counter({'MATTER-LBT': 50273, 'MATTER': 49727})\n",
      "Distribución de predicciones para a: Counter({0.2: 49601, 0.4: 31931, 0.3: 18468})\n",
      "Distribución de predicciones para Q: Counter({1.0: 54518, 2.5: 23220, 1.5: 11878, 2.0: 10384})\n"
     ]
    },
    {
     "data": {
      "image/png": "[encoded data removed]",
      "text/plain": [
       "<Figure size 1000x400 with 10 Axes>"
      ]
     },
     "metadata": {},
     "output_type": "display_data"
    }
   ],
   "source": [
    "from collections import Counter\n",
    "\n",
    "# Contar cuántas veces se predice cada clase\n",
    "print(\"Distribución de predicciones para E:\", Counter(E_pred))\n",
    "print(\"Distribución de predicciones para a:\", Counter(a_pred))\n",
    "print(\"Distribución de predicciones para Q:\", Counter(Q_pred))\n",
    "\n",
    "fig, axes = plt.subplots(2, 5, figsize=(10, 4))\n",
    "\n",
    "# 5 imágenes del dataset de predicción\n",
    "for i in range(5):\n",
    "    axes[1, i].imshow(data[i].reshape(32, 32), cmap=\"gray\")\n",
    "    axes[1, i].axis(\"off\")\n",
    "\n",
    "plt.show()"
   ]
  },
  {
   "cell_type": "code",
   "execution_count": 39,
   "metadata": {},
   "outputs": [
    {
     "name": "stdout",
     "output_type": "stream",
     "text": [
      "✅ Resultados guardados en 'resultados_predicciones.csv'.\n"
     ]
    }
   ],
   "source": [
    "import pandas as pd\n",
    "\n",
    "# Crear un DataFrame con los resultados\n",
    "df_resultados = pd.DataFrame({\n",
    "    \"E_pred\": E_pred,  # Etiquetas de MATTER o MATTER-LBT\n",
    "    \"a_pred\": a_pred,  # Valores reales de a\n",
    "    \"Q_pred\": Q_pred   # Valores reales de Q\n",
    "})\n",
    "\n",
    "# Guardar en un CSV con separador `;`\n",
    "df_resultados.to_csv(\"resultados_predicciones.csv\", sep=\";\", index=False)\n",
    "\n",
    "print(\"✅ Resultados guardados en 'resultados_predicciones.csv'.\")"
   ]
  }
 ],
 "metadata": {
  "language_info": {
   "name": "python"
  }
 },
 "nbformat": 4,
 "nbformat_minor": 2
}
